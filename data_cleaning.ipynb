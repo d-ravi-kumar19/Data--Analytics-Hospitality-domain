{
 "cells": [
  {
   "cell_type": "code",
   "execution_count": 3,
   "metadata": {},
   "outputs": [],
   "source": [
    "import numpy as np\n",
    "import pandas as pd\n",
    "import matplotlib as plt\n",
    "import os\n"
   ]
  },
  {
   "cell_type": "code",
   "execution_count": 12,
   "metadata": {},
   "outputs": [
    {
     "name": "stdout",
     "output_type": "stream",
     "text": [
      "Current Directory: c:\\Users\\Medha Trust\\Desktop\\Hotel management\n",
      "data_cleaning.ipynb\n",
      "dim_date.csv\n",
      "dim_hotels.csv\n",
      "dim_rooms.csv\n",
      "fact_aggregated_bookings.csv\n",
      "fact_bookings.csv\n",
      "meta_data_hospitality.txt\n",
      "metrics list.xlsx\n",
      "mock up dashboard_atliq grands.png\n"
     ]
    }
   ],
   "source": [
    "current_directory = os.getcwd()\n",
    "print(\"Current Directory:\", current_directory)\n",
    "\n",
    "files = os.listdir(current_directory)\n",
    "for file in files:\n",
    "    print(file)"
   ]
  },
  {
   "cell_type": "code",
   "execution_count": 15,
   "metadata": {},
   "outputs": [
    {
     "name": "stdout",
     "output_type": "stream",
     "text": [
      "File 'dim_date.csv' loaded successfully.\n",
      "File 'dim_hotels.csv' loaded successfully.\n",
      "File 'dim_rooms.csv' loaded successfully.\n",
      "File 'fact_bookings.csv' loaded successfully.\n",
      "File 'fact_aggregated_bookings.csv' loaded successfully.\n"
     ]
    }
   ],
   "source": [
    "def load_data(file_path):\n",
    "    \"\"\"\n",
    "    Load a CSV file into a pandas DataFrame.\n",
    "\n",
    "    Parameters:\n",
    "    - file_path (str): The path to the CSV file.\n",
    "\n",
    "    Returns:\n",
    "    - pd.DataFrame: The loaded DataFrame.\n",
    "    \"\"\"\n",
    "    try:\n",
    "        df = pd.read_csv(file_path)\n",
    "        print(f\"File '{file_path}' loaded successfully.\")\n",
    "        return df\n",
    "    except Exception as e:\n",
    "        print(f\"Error loading file '{file_path}': {e}\")\n",
    "        return None\n",
    "\n",
    "dim_date_df = load_data('dim_date.csv')\n",
    "dim_hotels_df = load_data('dim_hotels.csv')\n",
    "dim_rooms_df = load_data('dim_rooms.csv')\n",
    "fact_bookings_df = load_data('fact_bookings.csv')\n",
    "fact_aggregated_bookings_df = load_data('fact_aggregated_bookings.csv')\n",
    "\n"
   ]
  },
  {
   "cell_type": "code",
   "execution_count": 16,
   "metadata": {},
   "outputs": [
    {
     "data": {
      "text/html": [
       "<div>\n",
       "<style scoped>\n",
       "    .dataframe tbody tr th:only-of-type {\n",
       "        vertical-align: middle;\n",
       "    }\n",
       "\n",
       "    .dataframe tbody tr th {\n",
       "        vertical-align: top;\n",
       "    }\n",
       "\n",
       "    .dataframe thead th {\n",
       "        text-align: right;\n",
       "    }\n",
       "</style>\n",
       "<table border=\"1\" class=\"dataframe\">\n",
       "  <thead>\n",
       "    <tr style=\"text-align: right;\">\n",
       "      <th></th>\n",
       "      <th>date</th>\n",
       "      <th>mmm yy</th>\n",
       "      <th>week no</th>\n",
       "      <th>day_type</th>\n",
       "    </tr>\n",
       "  </thead>\n",
       "  <tbody>\n",
       "    <tr>\n",
       "      <th>0</th>\n",
       "      <td>01-May-22</td>\n",
       "      <td>May 22</td>\n",
       "      <td>W 19</td>\n",
       "      <td>weekend</td>\n",
       "    </tr>\n",
       "    <tr>\n",
       "      <th>1</th>\n",
       "      <td>02-May-22</td>\n",
       "      <td>May 22</td>\n",
       "      <td>W 19</td>\n",
       "      <td>weekeday</td>\n",
       "    </tr>\n",
       "    <tr>\n",
       "      <th>2</th>\n",
       "      <td>03-May-22</td>\n",
       "      <td>May 22</td>\n",
       "      <td>W 19</td>\n",
       "      <td>weekeday</td>\n",
       "    </tr>\n",
       "    <tr>\n",
       "      <th>3</th>\n",
       "      <td>04-May-22</td>\n",
       "      <td>May 22</td>\n",
       "      <td>W 19</td>\n",
       "      <td>weekeday</td>\n",
       "    </tr>\n",
       "    <tr>\n",
       "      <th>4</th>\n",
       "      <td>05-May-22</td>\n",
       "      <td>May 22</td>\n",
       "      <td>W 19</td>\n",
       "      <td>weekeday</td>\n",
       "    </tr>\n",
       "  </tbody>\n",
       "</table>\n",
       "</div>"
      ],
      "text/plain": [
       "        date  mmm yy week no  day_type\n",
       "0  01-May-22  May 22    W 19   weekend\n",
       "1  02-May-22  May 22    W 19  weekeday\n",
       "2  03-May-22  May 22    W 19  weekeday\n",
       "3  04-May-22  May 22    W 19  weekeday\n",
       "4  05-May-22  May 22    W 19  weekeday"
      ]
     },
     "execution_count": 16,
     "metadata": {},
     "output_type": "execute_result"
    }
   ],
   "source": [
    "dim_date_df.head()\n"
   ]
  },
  {
   "cell_type": "code",
   "execution_count": 17,
   "metadata": {},
   "outputs": [
    {
     "name": "stdout",
     "output_type": "stream",
     "text": [
      "\n",
      "Checking null values for dim_date.csv:\n",
      "No null values found.\n",
      "\n",
      "Checking null values for dim_hotels.csv:\n",
      "No null values found.\n",
      "\n",
      "Checking null values for dim_rooms.csv:\n",
      "No null values found.\n",
      "\n",
      "Checking null values for fact_bookings.csv:\n",
      "Columns with null values:\n",
      "ratings_given    77907\n",
      "dtype: int64\n",
      "\n",
      "Checking null values for fact_aggregated_bookings.csv:\n",
      "No null values found.\n"
     ]
    }
   ],
   "source": [
    "def check_nulls(data_frame, file_name):\n",
    "    \"\"\"\n",
    "    Check and print the number of null values in each column of a DataFrame.\n",
    "\n",
    "    Parameters:\n",
    "    - data_frame (pd.DataFrame): The DataFrame to check for null values.\n",
    "    - file_name (str): The name of the file or DataFrame (for display purposes).\n",
    "\n",
    "    Returns:\n",
    "    - None\n",
    "    \"\"\"\n",
    "    print(f\"\\nChecking null values for {file_name}:\")\n",
    "    null_counts = data_frame.isnull().sum()\n",
    "    \n",
    "    if null_counts.sum() == 0:\n",
    "        print(\"No null values found.\")\n",
    "    else:\n",
    "        print(\"Columns with null values:\")\n",
    "        print(null_counts[null_counts > 0])\n",
    "\n",
    "check_nulls(dim_date_df, 'dim_date.csv')\n",
    "check_nulls(dim_hotels_df, 'dim_hotels.csv')\n",
    "check_nulls(dim_rooms_df, 'dim_rooms.csv')\n",
    "check_nulls(fact_bookings_df, 'fact_bookings.csv')\n",
    "check_nulls(fact_aggregated_bookings_df, 'fact_aggregated_bookings.csv')"
   ]
  },
  {
   "cell_type": "markdown",
   "metadata": {},
   "source": [
    "- We have null values in fact_bookings data only, lets analyze them closely"
   ]
  },
  {
   "cell_type": "code",
   "execution_count": 18,
   "metadata": {},
   "outputs": [
    {
     "data": {
      "text/plain": [
       "booking_id               0\n",
       "property_id              0\n",
       "booking_date             0\n",
       "check_in_date            0\n",
       "checkout_date            0\n",
       "no_guests                0\n",
       "room_category            0\n",
       "booking_platform         0\n",
       "ratings_given        77907\n",
       "booking_status           0\n",
       "revenue_generated        0\n",
       "revenue_realized         0\n",
       "dtype: int64"
      ]
     },
     "execution_count": 18,
     "metadata": {},
     "output_type": "execute_result"
    }
   ],
   "source": [
    "fact_bookings_df.isnull().sum()\n"
   ]
  },
  {
   "cell_type": "code",
   "execution_count": 20,
   "metadata": {},
   "outputs": [
    {
     "data": {
      "text/plain": [
       "5.0    19480\n",
       "3.0    17561\n",
       "4.0     9653\n",
       "2.0     6452\n",
       "1.0     3537\n",
       "Name: ratings_given, dtype: int64"
      ]
     },
     "execution_count": 20,
     "metadata": {},
     "output_type": "execute_result"
    }
   ],
   "source": [
    "fact_bookings_df.ratings_given.value_counts()"
   ]
  },
  {
   "cell_type": "code",
   "execution_count": 25,
   "metadata": {},
   "outputs": [],
   "source": [
    "fact_bookings_df['ratings_given'] = fact_bookings_df['ratings_given'].fillna(int(fact_bookings_df.ratings_given.mean()))\n"
   ]
  },
  {
   "cell_type": "code",
   "execution_count": 26,
   "metadata": {},
   "outputs": [
    {
     "data": {
      "text/plain": [
       "booking_id           0\n",
       "property_id          0\n",
       "booking_date         0\n",
       "check_in_date        0\n",
       "checkout_date        0\n",
       "no_guests            0\n",
       "room_category        0\n",
       "booking_platform     0\n",
       "ratings_given        0\n",
       "booking_status       0\n",
       "revenue_generated    0\n",
       "revenue_realized     0\n",
       "dtype: int64"
      ]
     },
     "execution_count": 26,
     "metadata": {},
     "output_type": "execute_result"
    }
   ],
   "source": [
    "fact_bookings_df.isnull().sum()\n"
   ]
  },
  {
   "cell_type": "code",
   "execution_count": 27,
   "metadata": {},
   "outputs": [],
   "source": [
    "fact_bookings_df.to_csv('fact_bookings_cleaned.csv',index=False)"
   ]
  },
  {
   "cell_type": "code",
   "execution_count": null,
   "metadata": {},
   "outputs": [],
   "source": []
  }
 ],
 "metadata": {
  "kernelspec": {
   "display_name": "my_env",
   "language": "python",
   "name": "python3"
  },
  "language_info": {
   "codemirror_mode": {
    "name": "ipython",
    "version": 3
   },
   "file_extension": ".py",
   "mimetype": "text/x-python",
   "name": "python",
   "nbconvert_exporter": "python",
   "pygments_lexer": "ipython3",
   "version": "3.11.3"
  }
 },
 "nbformat": 4,
 "nbformat_minor": 2
}
